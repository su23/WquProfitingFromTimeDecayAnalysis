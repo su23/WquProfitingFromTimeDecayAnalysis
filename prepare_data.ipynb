{
 "cells": [
  {
   "cell_type": "code",
   "execution_count": 55,
   "metadata": {},
   "outputs": [],
   "source": [
    "from functools import total_ordering\n",
    "import calendar\n",
    "import zipfile\n",
    "import os\n",
    "import pandas as pd\n",
    "import datetime\n",
    "import matplotlib.pyplot as plt"
   ]
  },
  {
   "cell_type": "code",
   "execution_count": 56,
   "metadata": {
    "pycharm": {
     "name": "#%%\n"
    }
   },
   "outputs": [],
   "source": [
    "@total_ordering\n",
    "class FolderName:\n",
    "    month_index = dict((month, index) for index, month in enumerate(calendar.month_name) if month)\n",
    "\n",
    "    def __init__(self, name: str):\n",
    "        x = name.split('_')\n",
    "        self.year = int(x[1])\n",
    "        self.month = x[2]\n",
    "\n",
    "    @staticmethod\n",
    "    def _is_valid_operand(other):\n",
    "        return hasattr(other, \"year\") and hasattr(other, \"month\")\n",
    "\n",
    "    def __eq__(self, other):\n",
    "        if not self._is_valid_operand(other):\n",
    "            return NotImplemented\n",
    "        return self.year == other.year and self.month == other.month\n",
    "\n",
    "    def __lt__(self, other):\n",
    "        if not self._is_valid_operand(other):\n",
    "            return NotImplemented\n",
    "        if self.year == other.year:\n",
    "            return self.month_index[self.month] < self.month_index[other.month]\n",
    "            # return self.month < other.month\n",
    "        else:\n",
    "            return self.year < other.year\n",
    "\n",
    "    def to_string(self):\n",
    "        return f'L2_{self.year}_{self.month}'\n",
    "\n",
    "    def __repr__(self):\n",
    "        return self.to_string()"
   ]
  },
  {
   "cell_type": "code",
   "execution_count": 57,
   "outputs": [],
   "source": [
    "def unzip_all(archive, unzip_to, skip=False):\n",
    "    if skip:\n",
    "        return\n",
    "    files = [f for f in os.listdir(archive) if f.endswith('.zip')]\n",
    "    total_files = len(files)\n",
    "    print(f'Total files {total_files}')\n",
    "    print(files)\n",
    "    counter = 1\n",
    "    for f in files:\n",
    "        f_zip = os.path.join(archive, f)\n",
    "        f_archive = os.path.splitext(os.path.join(unzip_to, f))[0]\n",
    "        print(f'Start unzipping {f_zip} to {f_archive} ({counter}/{total_files})')\n",
    "        if os.path.exists(f_archive):\n",
    "            print(f'Path {f_archive} exists. Skipping')\n",
    "            counter = counter + 1\n",
    "            continue\n",
    "        with zipfile.ZipFile(f_zip, 'r') as zip_ref:\n",
    "            zip_ref.extractall(f_archive)\n",
    "        print(f'Finish unzipping {f_zip} to {f_archive} ({counter}/{total_files})')\n",
    "        counter = counter + 1"
   ],
   "metadata": {
    "collapsed": false,
    "pycharm": {
     "name": "#%%\n"
    }
   }
  },
  {
   "cell_type": "code",
   "execution_count": 58,
   "metadata": {
    "pycharm": {
     "name": "#%%\n"
    }
   },
   "outputs": [],
   "source": [
    "def parse_file(parse_folder, single, max_files=10, asset='AAPL', proces_func=None):\n",
    "    folders = [FolderName(f) for f in os.listdir(parse_folder)]\n",
    "    folders.sort()\n",
    "    if single:\n",
    "        folders = [folders[0]]\n",
    "\n",
    "    total_files = 0\n",
    "    for folder in folders:\n",
    "        path = os.path.join(parse_folder, folder.to_string())\n",
    "        files = [f for f in os.listdir(path) if f.startswith('L2_options_')]\n",
    "        total_files = total_files + len(files)\n",
    "\n",
    "    print(f\"Total number of files (days): {total_files}\")\n",
    "    max_files = min(max_files, total_files)\n",
    "\n",
    "    i = 1\n",
    "    for folder in folders:\n",
    "        if i > max_files:\n",
    "            return\n",
    "        path = os.path.join(parse_folder, folder.to_string())\n",
    "        files = [f for f in os.listdir(path) if f.startswith('L2_options_')]\n",
    "        if single:\n",
    "            files = [files[0]]\n",
    "\n",
    "        for file in files:\n",
    "            if i > max_files:\n",
    "                return\n",
    "            d = file.split('_')[2].split('.')[0]\n",
    "            date = datetime.datetime.strptime(d, \"%Y%m%d\").date()\n",
    "            path_file = os.path.join(path, file)\n",
    "\n",
    "            df = pd.read_csv(path_file, sep=\",\").filter(['UnderlyingSymbol', 'UnderlyingPrice', 'Exchange', 'Type', 'Expiration',\n",
    "                   'DataDate', 'Strike', 'Last', 'Bid', 'Ask', 'Volume', 'OpenInterest', 'IV', 'Delta', 'Gamma',\n",
    "                   'Theta', 'Vega'])\n",
    "            output = df[df.UnderlyingSymbol == asset]\n",
    "\n",
    "            if proces_func is not None:\n",
    "                proces_func(output, date, asset, i)\n",
    "\n",
    "            print(f\"{date} {i}/{max_files}\")\n",
    "            i = i + 1"
   ]
  },
  {
   "cell_type": "code",
   "execution_count": 59,
   "metadata": {
    "pycharm": {
     "name": "#%%\n"
    }
   },
   "outputs": [],
   "source": [
    "index = []\n",
    "result = []\n",
    "\n",
    "\n",
    "def get_dayliy_spot(df: pd.DataFrame, date: datetime.date, asset: str, i):\n",
    "    index.append(date)\n",
    "    result.append(df.iloc[0]['UnderlyingPrice'])"
   ]
  },
  {
   "cell_type": "code",
   "execution_count": 60,
   "outputs": [],
   "source": [
    "def merge_into_one_file(df: pd.DataFrame, date: datetime.date, asset: str, i):\n",
    "    should_write_header = i == 1\n",
    "    df.to_csv(f\"{asset}.csv\", mode='a', header=should_write_header)"
   ],
   "metadata": {
    "collapsed": false,
    "pycharm": {
     "name": "#%%\n"
    }
   }
  },
  {
   "cell_type": "code",
   "execution_count": 61,
   "metadata": {
    "pycharm": {
     "name": "#%%\n"
    }
   },
   "outputs": [
    {
     "name": "stdout",
     "output_type": "stream",
     "text": [
      "Total number of files (days): 1301\n",
      "2016-11-01 1/2\n",
      "2016-11-02 2/2\n"
     ]
    }
   ],
   "source": [
    "archive_folder = '../HistoricalData/'\n",
    "unzip_to = '../Unzip/'\n",
    "unzip_all(archive_folder, unzip_to, True)\n",
    "\n",
    "# by max_files you can limit number of files to be processed. Total number of files is 1301\n",
    "#parse_file(unzip_to, single=False, max_files=0, proces_func=get_dayliy_spot)\n",
    "parse_file(unzip_to, single=False, max_files=2, asset='MSFT', proces_func=merge_into_one_file)"
   ]
  }
 ],
 "metadata": {
  "kernelspec": {
   "display_name": "Python 3 (ipykernel)",
   "language": "python",
   "name": "python3"
  },
  "language_info": {
   "codemirror_mode": {
    "name": "ipython",
    "version": 3
   },
   "file_extension": ".py",
   "mimetype": "text/x-python",
   "name": "python",
   "nbconvert_exporter": "python",
   "pygments_lexer": "ipython3",
   "version": "3.8.8"
  }
 },
 "nbformat": 4,
 "nbformat_minor": 1
}