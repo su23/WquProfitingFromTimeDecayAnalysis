{
 "cells": [
  {
   "cell_type": "code",
   "execution_count": 1,
   "metadata": {
    "collapsed": true
   },
   "outputs": [],
   "source": [
    "from math import isnan\n",
    "from functools import total_ordering\n",
    "import calendar\n",
    "import zipfile\n",
    "import os\n",
    "import pandas as pd\n",
    "import datetime\n",
    "import matplotlib.pyplot as plt\n",
    "from datetime import datetime\n",
    "import datetime\n",
    "import warnings\n",
    "warnings.filterwarnings('ignore')"
   ]
  },
  {
   "cell_type": "code",
   "execution_count": 2,
   "outputs": [],
   "source": [
    "data = pd.read_csv('MSFT.csv', sep=\",\").filter(['UnderlyingPrice', 'Type', 'Expiration',\n",
    "                   'DataDate', 'Strike', 'Last', 'Bid', 'Ask', 'Volume', 'OpenInterest', 'IV', 'Delta', 'Gamma',\n",
    "                   'Theta', 'Vega'])"
   ],
   "metadata": {
    "collapsed": false,
    "pycharm": {
     "name": "#%%\n"
    }
   }
  },
  {
   "cell_type": "code",
   "execution_count": 3,
   "outputs": [],
   "source": [
    "data['Expiration'] = pd.to_datetime(data['Expiration'])\n",
    "data['DataDate'] = pd.to_datetime(data['DataDate'])"
   ],
   "metadata": {
    "collapsed": false,
    "pycharm": {
     "name": "#%%\n"
    }
   }
  },
  {
   "cell_type": "code",
   "execution_count": 4,
   "outputs": [],
   "source": [
    "df_call = data.loc[data['Type'] == \"call\"]"
   ],
   "metadata": {
    "collapsed": false,
    "pycharm": {
     "name": "#%%\n"
    }
   }
  },
  {
   "cell_type": "code",
   "execution_count": 5,
   "outputs": [
    {
     "data": {
      "text/plain": "    Unnamed: 0     Delta     Gamma       Theta       Vega  Count\n0            1  0.508513  0.293932 -460.915591   1.769199    263\n1            2  0.492150  0.221183 -163.152034   3.608902    266\n2            3  0.502094  0.183372 -115.041570   4.796059    267\n3            4  0.495077  0.159783  -93.496116   5.726578    235\n4            7  0.499228  0.141272  -54.689635   7.890814    262\n5            8  0.505683  0.117421  -54.391360   8.525506    263\n6            9  0.496934  0.110682  -51.659346   9.112537    266\n7           10  0.502108  0.104470  -48.911450   9.652437    267\n8           11  0.499097  0.099522  -46.533618  10.129639    235\n9           14  0.498810  0.094503  -37.669044  11.452535    261\n10          15  0.499795  0.084711  -38.091394  11.940655    263\n11          16  0.498991  0.081982  -37.174733  12.372198    266\n12          17  0.500387  0.079171  -36.156903  12.768186    267\n13          18  0.501319  0.076879  -35.101047  13.150764    235\n14          21  0.498059  0.075436  -30.637287  14.153677    261\n15          22  0.500151  0.068637  -31.109754  14.572490    263\n16          23  0.500430  0.067430  -30.675384  14.935577    266\n17          24  0.499710  0.066193  -29.904444  15.267744    267\n18          25  0.499986  0.064261  -29.136926  15.582444    235\n19          28  0.498029  0.064083  -26.436083  16.275480    259\n20          29  0.501102  0.058649  -27.138858  16.891092    265\n21          30  0.503461  0.058224  -26.641938  17.103755    266\n22          31  0.498885  0.057084  -26.176905  17.392201    267\n23          32  0.500885  0.055833  -25.844552  17.655150    235\n24          35  0.499367  0.055577  -23.855779  18.338625    260\n25          36  0.496862  0.051806  -24.343611  18.765056    264\n26          37  0.504918  0.051331  -24.162427  19.015930    266\n27          38  0.502094  0.050613  -23.628039  19.304330    265\n28          39  0.496504  0.049680  -23.598470  19.497745    237\n29          42  0.500364  0.049825  -21.894833  20.145444    261\n30          43  0.500877  0.046780  -22.350022  20.535952    260\n31          44  0.502893  0.047134  -21.862293  20.624620    168\n32          45  0.500470  0.045647  -21.512828  20.695611    161\n33          46  0.496622  0.046674  -21.193470  20.642494    145\n34          49  0.500372  0.045506  -20.390855  21.734876    158\n35          50  0.496594  0.044362  -20.364689  21.594669    156",
      "text/html": "<div>\n<style scoped>\n    .dataframe tbody tr th:only-of-type {\n        vertical-align: middle;\n    }\n\n    .dataframe tbody tr th {\n        vertical-align: top;\n    }\n\n    .dataframe thead th {\n        text-align: right;\n    }\n</style>\n<table border=\"1\" class=\"dataframe\">\n  <thead>\n    <tr style=\"text-align: right;\">\n      <th></th>\n      <th>Unnamed: 0</th>\n      <th>Delta</th>\n      <th>Gamma</th>\n      <th>Theta</th>\n      <th>Vega</th>\n      <th>Count</th>\n    </tr>\n  </thead>\n  <tbody>\n    <tr>\n      <th>0</th>\n      <td>1</td>\n      <td>0.508513</td>\n      <td>0.293932</td>\n      <td>-460.915591</td>\n      <td>1.769199</td>\n      <td>263</td>\n    </tr>\n    <tr>\n      <th>1</th>\n      <td>2</td>\n      <td>0.492150</td>\n      <td>0.221183</td>\n      <td>-163.152034</td>\n      <td>3.608902</td>\n      <td>266</td>\n    </tr>\n    <tr>\n      <th>2</th>\n      <td>3</td>\n      <td>0.502094</td>\n      <td>0.183372</td>\n      <td>-115.041570</td>\n      <td>4.796059</td>\n      <td>267</td>\n    </tr>\n    <tr>\n      <th>3</th>\n      <td>4</td>\n      <td>0.495077</td>\n      <td>0.159783</td>\n      <td>-93.496116</td>\n      <td>5.726578</td>\n      <td>235</td>\n    </tr>\n    <tr>\n      <th>4</th>\n      <td>7</td>\n      <td>0.499228</td>\n      <td>0.141272</td>\n      <td>-54.689635</td>\n      <td>7.890814</td>\n      <td>262</td>\n    </tr>\n    <tr>\n      <th>5</th>\n      <td>8</td>\n      <td>0.505683</td>\n      <td>0.117421</td>\n      <td>-54.391360</td>\n      <td>8.525506</td>\n      <td>263</td>\n    </tr>\n    <tr>\n      <th>6</th>\n      <td>9</td>\n      <td>0.496934</td>\n      <td>0.110682</td>\n      <td>-51.659346</td>\n      <td>9.112537</td>\n      <td>266</td>\n    </tr>\n    <tr>\n      <th>7</th>\n      <td>10</td>\n      <td>0.502108</td>\n      <td>0.104470</td>\n      <td>-48.911450</td>\n      <td>9.652437</td>\n      <td>267</td>\n    </tr>\n    <tr>\n      <th>8</th>\n      <td>11</td>\n      <td>0.499097</td>\n      <td>0.099522</td>\n      <td>-46.533618</td>\n      <td>10.129639</td>\n      <td>235</td>\n    </tr>\n    <tr>\n      <th>9</th>\n      <td>14</td>\n      <td>0.498810</td>\n      <td>0.094503</td>\n      <td>-37.669044</td>\n      <td>11.452535</td>\n      <td>261</td>\n    </tr>\n    <tr>\n      <th>10</th>\n      <td>15</td>\n      <td>0.499795</td>\n      <td>0.084711</td>\n      <td>-38.091394</td>\n      <td>11.940655</td>\n      <td>263</td>\n    </tr>\n    <tr>\n      <th>11</th>\n      <td>16</td>\n      <td>0.498991</td>\n      <td>0.081982</td>\n      <td>-37.174733</td>\n      <td>12.372198</td>\n      <td>266</td>\n    </tr>\n    <tr>\n      <th>12</th>\n      <td>17</td>\n      <td>0.500387</td>\n      <td>0.079171</td>\n      <td>-36.156903</td>\n      <td>12.768186</td>\n      <td>267</td>\n    </tr>\n    <tr>\n      <th>13</th>\n      <td>18</td>\n      <td>0.501319</td>\n      <td>0.076879</td>\n      <td>-35.101047</td>\n      <td>13.150764</td>\n      <td>235</td>\n    </tr>\n    <tr>\n      <th>14</th>\n      <td>21</td>\n      <td>0.498059</td>\n      <td>0.075436</td>\n      <td>-30.637287</td>\n      <td>14.153677</td>\n      <td>261</td>\n    </tr>\n    <tr>\n      <th>15</th>\n      <td>22</td>\n      <td>0.500151</td>\n      <td>0.068637</td>\n      <td>-31.109754</td>\n      <td>14.572490</td>\n      <td>263</td>\n    </tr>\n    <tr>\n      <th>16</th>\n      <td>23</td>\n      <td>0.500430</td>\n      <td>0.067430</td>\n      <td>-30.675384</td>\n      <td>14.935577</td>\n      <td>266</td>\n    </tr>\n    <tr>\n      <th>17</th>\n      <td>24</td>\n      <td>0.499710</td>\n      <td>0.066193</td>\n      <td>-29.904444</td>\n      <td>15.267744</td>\n      <td>267</td>\n    </tr>\n    <tr>\n      <th>18</th>\n      <td>25</td>\n      <td>0.499986</td>\n      <td>0.064261</td>\n      <td>-29.136926</td>\n      <td>15.582444</td>\n      <td>235</td>\n    </tr>\n    <tr>\n      <th>19</th>\n      <td>28</td>\n      <td>0.498029</td>\n      <td>0.064083</td>\n      <td>-26.436083</td>\n      <td>16.275480</td>\n      <td>259</td>\n    </tr>\n    <tr>\n      <th>20</th>\n      <td>29</td>\n      <td>0.501102</td>\n      <td>0.058649</td>\n      <td>-27.138858</td>\n      <td>16.891092</td>\n      <td>265</td>\n    </tr>\n    <tr>\n      <th>21</th>\n      <td>30</td>\n      <td>0.503461</td>\n      <td>0.058224</td>\n      <td>-26.641938</td>\n      <td>17.103755</td>\n      <td>266</td>\n    </tr>\n    <tr>\n      <th>22</th>\n      <td>31</td>\n      <td>0.498885</td>\n      <td>0.057084</td>\n      <td>-26.176905</td>\n      <td>17.392201</td>\n      <td>267</td>\n    </tr>\n    <tr>\n      <th>23</th>\n      <td>32</td>\n      <td>0.500885</td>\n      <td>0.055833</td>\n      <td>-25.844552</td>\n      <td>17.655150</td>\n      <td>235</td>\n    </tr>\n    <tr>\n      <th>24</th>\n      <td>35</td>\n      <td>0.499367</td>\n      <td>0.055577</td>\n      <td>-23.855779</td>\n      <td>18.338625</td>\n      <td>260</td>\n    </tr>\n    <tr>\n      <th>25</th>\n      <td>36</td>\n      <td>0.496862</td>\n      <td>0.051806</td>\n      <td>-24.343611</td>\n      <td>18.765056</td>\n      <td>264</td>\n    </tr>\n    <tr>\n      <th>26</th>\n      <td>37</td>\n      <td>0.504918</td>\n      <td>0.051331</td>\n      <td>-24.162427</td>\n      <td>19.015930</td>\n      <td>266</td>\n    </tr>\n    <tr>\n      <th>27</th>\n      <td>38</td>\n      <td>0.502094</td>\n      <td>0.050613</td>\n      <td>-23.628039</td>\n      <td>19.304330</td>\n      <td>265</td>\n    </tr>\n    <tr>\n      <th>28</th>\n      <td>39</td>\n      <td>0.496504</td>\n      <td>0.049680</td>\n      <td>-23.598470</td>\n      <td>19.497745</td>\n      <td>237</td>\n    </tr>\n    <tr>\n      <th>29</th>\n      <td>42</td>\n      <td>0.500364</td>\n      <td>0.049825</td>\n      <td>-21.894833</td>\n      <td>20.145444</td>\n      <td>261</td>\n    </tr>\n    <tr>\n      <th>30</th>\n      <td>43</td>\n      <td>0.500877</td>\n      <td>0.046780</td>\n      <td>-22.350022</td>\n      <td>20.535952</td>\n      <td>260</td>\n    </tr>\n    <tr>\n      <th>31</th>\n      <td>44</td>\n      <td>0.502893</td>\n      <td>0.047134</td>\n      <td>-21.862293</td>\n      <td>20.624620</td>\n      <td>168</td>\n    </tr>\n    <tr>\n      <th>32</th>\n      <td>45</td>\n      <td>0.500470</td>\n      <td>0.045647</td>\n      <td>-21.512828</td>\n      <td>20.695611</td>\n      <td>161</td>\n    </tr>\n    <tr>\n      <th>33</th>\n      <td>46</td>\n      <td>0.496622</td>\n      <td>0.046674</td>\n      <td>-21.193470</td>\n      <td>20.642494</td>\n      <td>145</td>\n    </tr>\n    <tr>\n      <th>34</th>\n      <td>49</td>\n      <td>0.500372</td>\n      <td>0.045506</td>\n      <td>-20.390855</td>\n      <td>21.734876</td>\n      <td>158</td>\n    </tr>\n    <tr>\n      <th>35</th>\n      <td>50</td>\n      <td>0.496594</td>\n      <td>0.044362</td>\n      <td>-20.364689</td>\n      <td>21.594669</td>\n      <td>156</td>\n    </tr>\n  </tbody>\n</table>\n</div>"
     },
     "execution_count": 5,
     "metadata": {},
     "output_type": "execute_result"
    }
   ],
   "source": [
    "full_greeks = pd.read_csv('theta_call.csv')"
   ],
   "metadata": {
    "collapsed": false,
    "pycharm": {
     "name": "#%%\n"
    }
   }
  },
  {
   "cell_type": "code",
   "execution_count": 8,
   "outputs": [],
   "source": [
    "def select_closest_dn_option_max_expiration_days(df):\n",
    "    df['Days'] = (df['Expiration'] - df['DataDate']).astype('timedelta64[D]').astype(int)\n",
    "    df2 = df.groupby('DataDate').apply(lambda x: x.groupby('Days').apply(lambda g: g.iloc[(g['Delta'] - 0.5).abs().argsort()[:1]]))\n",
    "    max_expiration_days = df2.loc[df2['Days'].idxmax()]['Days']\n",
    "    print(f'Max days option expiration is {max_expiration_days}')\n",
    "    return df2"
   ],
   "metadata": {
    "collapsed": false,
    "pycharm": {
     "name": "#%%\n"
    }
   }
  },
  {
   "cell_type": "code",
   "execution_count": 9,
   "outputs": [
    {
     "name": "stdout",
     "output_type": "stream",
     "text": [
      "Max days option expiration is 945\n"
     ]
    }
   ],
   "source": [
    "df_days = select_closest_dn_option_max_expiration_days(df_call)"
   ],
   "metadata": {
    "collapsed": false,
    "pycharm": {
     "name": "#%%\n"
    }
   }
  },
  {
   "cell_type": "code",
   "execution_count": 29,
   "outputs": [
    {
     "data": {
      "text/plain": "                         UnderlyingPrice  Type Expiration   DataDate  Strike  \\\nDataDate   Days                                                                \n2016-11-01 3    42                 59.80  call 2016-11-04 2016-11-01    60.0   \n           10   124                59.80  call 2016-11-11 2016-11-01    60.0   \n           17   224                59.80  call 2016-11-18 2016-11-01    59.5   \n           24   308                59.80  call 2016-11-25 2016-11-01    59.5   \n           31   380                59.80  call 2016-12-02 2016-11-01    59.5   \n...                                  ...   ...        ...        ...     ...   \n2021-12-31 259  1714422           336.32  call 2022-09-16 2021-12-31   345.0   \n           385  1714574           336.32  call 2023-01-20 2021-12-31   350.0   \n           441  1714724           336.32  call 2023-03-17 2021-12-31   355.0   \n           532  1714870           336.32  call 2023-06-16 2021-12-31   355.0   \n           749  1715008           336.32  call 2024-01-19 2021-12-31   365.0   \n\n                          Last    Bid    Ask  Volume  OpenInterest      IV  \\\nDataDate   Days                                                              \n2016-11-01 3    42        0.37   0.31   0.37    8134          4904  0.2256   \n           10   124       0.81   0.76   0.84     878          1959  0.2329   \n           17   224       0.95   1.12   1.16     453           339  0.2137   \n           24   308       1.53   1.17   1.23       0           616  0.1932   \n           31   380       1.15   1.28   1.35       4            39  0.1880   \n...                        ...    ...    ...     ...           ...     ...   \n2021-12-31 259  1714422  27.20  26.25  29.00      57           755  0.2785   \n           385  1714574  32.75  30.25  34.00     181          4765  0.2756   \n           441  1714724  30.00  31.05  35.00       0          1095  0.2755   \n           532  1714870  38.40  36.55  39.75       5          1498  0.2821   \n           749  1715008  47.70  41.00  45.50       0           274  0.2827   \n\n                          Delta   Gamma    Theta      Vega  Days  \nDataDate   Days                                                   \n2016-11-01 3    42       0.4314  0.3644 -33.3893    1.8792     3  \n           10   124      0.4742  0.1788 -17.5871    3.8069    10  \n           17   224      0.5265  0.1467  -9.9672    5.0176    17  \n           24   308      0.5185  0.1358  -7.2651    5.9981    24  \n           31   380      0.5154  0.1224  -6.2155    6.8375    31  \n...                         ...     ...      ...       ...   ...  \n2021-12-31 259  1714422  0.5034  0.0051 -22.2149  112.7978   259  \n           385  1714574  0.5003  0.0042 -18.0305  137.5554   385  \n           441  1714724  0.4911  0.0039 -16.9910  147.3328   441  \n           532  1714870  0.5067  0.0035 -15.8515  161.8596   532  \n           749  1715008  0.5027  0.0029 -13.4048  192.1119   749  \n\n[21442 rows x 16 columns]",
      "text/html": "<div>\n<style scoped>\n    .dataframe tbody tr th:only-of-type {\n        vertical-align: middle;\n    }\n\n    .dataframe tbody tr th {\n        vertical-align: top;\n    }\n\n    .dataframe thead th {\n        text-align: right;\n    }\n</style>\n<table border=\"1\" class=\"dataframe\">\n  <thead>\n    <tr style=\"text-align: right;\">\n      <th></th>\n      <th></th>\n      <th></th>\n      <th>UnderlyingPrice</th>\n      <th>Type</th>\n      <th>Expiration</th>\n      <th>DataDate</th>\n      <th>Strike</th>\n      <th>Last</th>\n      <th>Bid</th>\n      <th>Ask</th>\n      <th>Volume</th>\n      <th>OpenInterest</th>\n      <th>IV</th>\n      <th>Delta</th>\n      <th>Gamma</th>\n      <th>Theta</th>\n      <th>Vega</th>\n      <th>Days</th>\n    </tr>\n    <tr>\n      <th>DataDate</th>\n      <th>Days</th>\n      <th></th>\n      <th></th>\n      <th></th>\n      <th></th>\n      <th></th>\n      <th></th>\n      <th></th>\n      <th></th>\n      <th></th>\n      <th></th>\n      <th></th>\n      <th></th>\n      <th></th>\n      <th></th>\n      <th></th>\n      <th></th>\n      <th></th>\n    </tr>\n  </thead>\n  <tbody>\n    <tr>\n      <th rowspan=\"5\" valign=\"top\">2016-11-01</th>\n      <th>3</th>\n      <th>42</th>\n      <td>59.80</td>\n      <td>call</td>\n      <td>2016-11-04</td>\n      <td>2016-11-01</td>\n      <td>60.0</td>\n      <td>0.37</td>\n      <td>0.31</td>\n      <td>0.37</td>\n      <td>8134</td>\n      <td>4904</td>\n      <td>0.2256</td>\n      <td>0.4314</td>\n      <td>0.3644</td>\n      <td>-33.3893</td>\n      <td>1.8792</td>\n      <td>3</td>\n    </tr>\n    <tr>\n      <th>10</th>\n      <th>124</th>\n      <td>59.80</td>\n      <td>call</td>\n      <td>2016-11-11</td>\n      <td>2016-11-01</td>\n      <td>60.0</td>\n      <td>0.81</td>\n      <td>0.76</td>\n      <td>0.84</td>\n      <td>878</td>\n      <td>1959</td>\n      <td>0.2329</td>\n      <td>0.4742</td>\n      <td>0.1788</td>\n      <td>-17.5871</td>\n      <td>3.8069</td>\n      <td>10</td>\n    </tr>\n    <tr>\n      <th>17</th>\n      <th>224</th>\n      <td>59.80</td>\n      <td>call</td>\n      <td>2016-11-18</td>\n      <td>2016-11-01</td>\n      <td>59.5</td>\n      <td>0.95</td>\n      <td>1.12</td>\n      <td>1.16</td>\n      <td>453</td>\n      <td>339</td>\n      <td>0.2137</td>\n      <td>0.5265</td>\n      <td>0.1467</td>\n      <td>-9.9672</td>\n      <td>5.0176</td>\n      <td>17</td>\n    </tr>\n    <tr>\n      <th>24</th>\n      <th>308</th>\n      <td>59.80</td>\n      <td>call</td>\n      <td>2016-11-25</td>\n      <td>2016-11-01</td>\n      <td>59.5</td>\n      <td>1.53</td>\n      <td>1.17</td>\n      <td>1.23</td>\n      <td>0</td>\n      <td>616</td>\n      <td>0.1932</td>\n      <td>0.5185</td>\n      <td>0.1358</td>\n      <td>-7.2651</td>\n      <td>5.9981</td>\n      <td>24</td>\n    </tr>\n    <tr>\n      <th>31</th>\n      <th>380</th>\n      <td>59.80</td>\n      <td>call</td>\n      <td>2016-12-02</td>\n      <td>2016-11-01</td>\n      <td>59.5</td>\n      <td>1.15</td>\n      <td>1.28</td>\n      <td>1.35</td>\n      <td>4</td>\n      <td>39</td>\n      <td>0.1880</td>\n      <td>0.5154</td>\n      <td>0.1224</td>\n      <td>-6.2155</td>\n      <td>6.8375</td>\n      <td>31</td>\n    </tr>\n    <tr>\n      <th>...</th>\n      <th>...</th>\n      <th>...</th>\n      <td>...</td>\n      <td>...</td>\n      <td>...</td>\n      <td>...</td>\n      <td>...</td>\n      <td>...</td>\n      <td>...</td>\n      <td>...</td>\n      <td>...</td>\n      <td>...</td>\n      <td>...</td>\n      <td>...</td>\n      <td>...</td>\n      <td>...</td>\n      <td>...</td>\n      <td>...</td>\n    </tr>\n    <tr>\n      <th rowspan=\"5\" valign=\"top\">2021-12-31</th>\n      <th>259</th>\n      <th>1714422</th>\n      <td>336.32</td>\n      <td>call</td>\n      <td>2022-09-16</td>\n      <td>2021-12-31</td>\n      <td>345.0</td>\n      <td>27.20</td>\n      <td>26.25</td>\n      <td>29.00</td>\n      <td>57</td>\n      <td>755</td>\n      <td>0.2785</td>\n      <td>0.5034</td>\n      <td>0.0051</td>\n      <td>-22.2149</td>\n      <td>112.7978</td>\n      <td>259</td>\n    </tr>\n    <tr>\n      <th>385</th>\n      <th>1714574</th>\n      <td>336.32</td>\n      <td>call</td>\n      <td>2023-01-20</td>\n      <td>2021-12-31</td>\n      <td>350.0</td>\n      <td>32.75</td>\n      <td>30.25</td>\n      <td>34.00</td>\n      <td>181</td>\n      <td>4765</td>\n      <td>0.2756</td>\n      <td>0.5003</td>\n      <td>0.0042</td>\n      <td>-18.0305</td>\n      <td>137.5554</td>\n      <td>385</td>\n    </tr>\n    <tr>\n      <th>441</th>\n      <th>1714724</th>\n      <td>336.32</td>\n      <td>call</td>\n      <td>2023-03-17</td>\n      <td>2021-12-31</td>\n      <td>355.0</td>\n      <td>30.00</td>\n      <td>31.05</td>\n      <td>35.00</td>\n      <td>0</td>\n      <td>1095</td>\n      <td>0.2755</td>\n      <td>0.4911</td>\n      <td>0.0039</td>\n      <td>-16.9910</td>\n      <td>147.3328</td>\n      <td>441</td>\n    </tr>\n    <tr>\n      <th>532</th>\n      <th>1714870</th>\n      <td>336.32</td>\n      <td>call</td>\n      <td>2023-06-16</td>\n      <td>2021-12-31</td>\n      <td>355.0</td>\n      <td>38.40</td>\n      <td>36.55</td>\n      <td>39.75</td>\n      <td>5</td>\n      <td>1498</td>\n      <td>0.2821</td>\n      <td>0.5067</td>\n      <td>0.0035</td>\n      <td>-15.8515</td>\n      <td>161.8596</td>\n      <td>532</td>\n    </tr>\n    <tr>\n      <th>749</th>\n      <th>1715008</th>\n      <td>336.32</td>\n      <td>call</td>\n      <td>2024-01-19</td>\n      <td>2021-12-31</td>\n      <td>365.0</td>\n      <td>47.70</td>\n      <td>41.00</td>\n      <td>45.50</td>\n      <td>0</td>\n      <td>274</td>\n      <td>0.2827</td>\n      <td>0.5027</td>\n      <td>0.0029</td>\n      <td>-13.4048</td>\n      <td>192.1119</td>\n      <td>749</td>\n    </tr>\n  </tbody>\n</table>\n<p>21442 rows × 16 columns</p>\n</div>"
     },
     "execution_count": 29,
     "metadata": {},
     "output_type": "execute_result"
    }
   ],
   "source": [
    "df_days"
   ],
   "metadata": {
    "collapsed": false,
    "pycharm": {
     "name": "#%%\n"
    }
   }
  },
  {
   "cell_type": "code",
   "execution_count": 105,
   "outputs": [],
   "source": [
    "def filter_portfolio(portfolio_list: list, date: datetime.datetime):\n",
    "    removed = []\n",
    "    for l in portfolio_list:\n",
    "        if l[1]['Expiration'] == date:\n",
    "            removed.append(l)\n",
    "\n",
    "    for r in removed:\n",
    "        portfolio_list.remove(r)\n",
    "\n",
    "    # print(f\"after remove {len(portfolio_list)}\")\n",
    "    return removed\n",
    "\n",
    "def calculate_delta_port(portfolio_list: list):\n",
    "    delta_total = 0\n",
    "    for p in portfolio_list:\n",
    "        delta_total = delta_total + p[1]['Delta']\n",
    "\n",
    "    return delta_total"
   ],
   "metadata": {
    "collapsed": false,
    "pycharm": {
     "name": "#%%\n"
    }
   }
  },
  {
   "cell_type": "code",
   "execution_count": 106,
   "outputs": [],
   "source": [
    "def should_execute(spot, expired_today):\n",
    "    total_minus = 0\n",
    "    executed = 0\n",
    "    for option in expired_today:\n",
    "        strike = option[1]['Strike']\n",
    "        if strike < spot:\n",
    "            minus = strike - spot\n",
    "            #print(f\"option will be executed. Pay ${minus}\")\n",
    "            executed = executed + 1\n",
    "            total_minus = total_minus + minus\n",
    "\n",
    "    total_len = len(expired_today)\n",
    "    if total_len > 0:\n",
    "        print(f\"From {total_len} expired options only {executed} were executed. Total minus {total_minus}\")\n",
    "    return total_minus\n",
    "\n",
    "def visualize_balance(b):\n",
    "    lists = sorted(b.items())\n",
    "    x, y = zip(*lists)\n",
    "    plt.plot(x, y)\n",
    "    plt.show()"
   ],
   "metadata": {
    "collapsed": false,
    "pycharm": {
     "name": "#%%\n"
    }
   }
  },
  {
   "cell_type": "code",
   "execution_count": 114,
   "outputs": [
    {
     "name": "stdout",
     "output_type": "stream",
     "text": [
      "Next date 2016-11-01 00:00:00\n",
      "Next date 2016-11-02 00:00:00\n",
      "Next date 2016-11-03 00:00:00\n",
      "Next date 2016-11-04 00:00:00\n",
      "From 1 expired options only 0 were executed. Total minus 0\n",
      "Next date 2016-11-07 00:00:00\n",
      "Next date 2016-11-08 00:00:00\n",
      "Next date 2016-11-09 00:00:00\n",
      "Next date 2016-11-10 00:00:00\n",
      "Next date 2016-11-11 00:00:00\n",
      "From 2 expired options only 1 were executed. Total minus -0.020000000000003126\n",
      "Next date 2016-11-14 00:00:00\n",
      "Next date 2016-11-15 00:00:00\n",
      "Next date 2016-11-16 00:00:00\n",
      "Next date 2016-11-17 00:00:00\n",
      "Next date 2016-11-18 00:00:00\n",
      "From 2 expired options only 2 were executed. Total minus -2.200000000000003\n",
      "Next date 2016-11-21 00:00:00\n",
      "Next date 2016-11-22 00:00:00\n",
      "Next date 2016-11-23 00:00:00\n",
      "Next date 2016-11-25 00:00:00\n",
      "From 2 expired options only 2 were executed. Total minus -1.0600000000000023\n",
      "Next date 2016-11-28 00:00:00\n",
      "Next date 2016-11-29 00:00:00\n",
      "Next date 2016-11-30 00:00:00\n"
     ]
    },
    {
     "data": {
      "text/plain": "<Figure size 432x288 with 1 Axes>",
      "image/png": "[encoded data removed]"
     },
     "metadata": {
      "needs_background": "light"
     },
     "output_type": "display_data"
    },
    {
     "data": {
      "text/plain": "<Figure size 432x288 with 1 Axes>",
      "image/png": "[encoded data removed]"
     },
     "metadata": {
      "needs_background": "light"
     },
     "output_type": "display_data"
    },
    {
     "data": {
      "text/plain": "<Figure size 432x288 with 1 Axes>",
      "image/png": "[encoded data removed]"
     },
     "metadata": {
      "needs_background": "light"
     },
     "output_type": "display_data"
    }
   ],
   "source": [
    "balance = {0: .0}\n",
    "delta_port = {0: .0}\n",
    "option_number = {0: 0}\n",
    "min_expiration = 0\n",
    "max_expiration = 25\n",
    "max_days = 200\n",
    "\n",
    "\n",
    "portfolio = []\n",
    "\n",
    "max_delta = 2\n",
    "\n",
    "\n",
    "current_date = datetime.datetime.now()\n",
    "i = 0\n",
    "for row in df_days.iterrows():\n",
    "    if i > max_days:\n",
    "        break\n",
    "\n",
    "    date = row[1]['DataDate']\n",
    "    if date != current_date:\n",
    "        print(f'Next date {date}')\n",
    "        current_date = date\n",
    "        i = i + 1\n",
    "        balance[i] = balance[i - 1]\n",
    "        delta_port[i] = delta_port[i - 1]\n",
    "        option_number[i] = option_number[i - 1]\n",
    "        # delta = 0\n",
    "        # print(f\" number of options in port {len(portfolio)}\")\n",
    "        # for p in portfolio:\n",
    "        #     delta = delta + p[1]['Delta']\n",
    "        # delta_port[i] = delta\n",
    "\n",
    "        # execute current options\n",
    "        spot = row[1]['UnderlyingPrice']\n",
    "        expired_today = filter_portfolio(portfolio, date)\n",
    "\n",
    "        delta_port[i] = delta_port[i] - calculate_delta_port(expired_today)\n",
    "        option_number[i] = option_number[i] - len(expired_today)\n",
    "        should_execute(spot, expired_today)\n",
    "\n",
    "    days = row[1]['Days']\n",
    "    if days > max_expiration or days < 1:\n",
    "        continue\n",
    "\n",
    "    delta = row[1]['Delta']\n",
    "    new_delta = delta_port[i] + delta\n",
    "    if max_delta < new_delta:\n",
    "        continue\n",
    "\n",
    "    delta_port[i] = new_delta\n",
    "    bid = row[1]['Bid']\n",
    "    balance[i] = balance[i] + bid\n",
    "    option_number[i] = option_number[i] + 1\n",
    "\n",
    "    portfolio.append(row)\n",
    "\n",
    "#print(balance)\n",
    "visualize_balance(balance)\n",
    "visualize_balance(delta_port)\n",
    "visualize_balance(option_number)"
   ],
   "metadata": {
    "collapsed": false,
    "pycharm": {
     "name": "#%%\n"
    }
   }
  },
  {
   "cell_type": "code",
   "execution_count": null,
   "outputs": [],
   "source": [],
   "metadata": {
    "collapsed": false,
    "pycharm": {
     "name": "#%%\n"
    }
   }
  }
 ],
 "metadata": {
  "kernelspec": {
   "display_name": "Python 3",
   "language": "python",
   "name": "python3"
  },
  "language_info": {
   "codemirror_mode": {
    "name": "ipython",
    "version": 2
   },
   "file_extension": ".py",
   "mimetype": "text/x-python",
   "name": "python",
   "nbconvert_exporter": "python",
   "pygments_lexer": "ipython2",
   "version": "2.7.6"
  }
 },
 "nbformat": 4,
 "nbformat_minor": 0
}