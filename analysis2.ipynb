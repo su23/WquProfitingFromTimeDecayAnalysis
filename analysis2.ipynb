{
 "cells": [
  {
   "cell_type": "code",
   "execution_count": 21,
   "metadata": {
    "collapsed": true
   },
   "outputs": [],
   "source": [
    "from functools import total_ordering\n",
    "import calendar\n",
    "import zipfile\n",
    "import os\n",
    "import pandas as pd\n",
    "import datetime\n",
    "import matplotlib.pyplot as plt"
   ]
  },
  {
   "cell_type": "code",
   "execution_count": 22,
   "outputs": [],
   "source": [
    "df = pd.read_csv('AAPL.csv', sep=\",\")"
   ],
   "metadata": {
    "collapsed": false,
    "pycharm": {
     "name": "#%%\n"
    }
   }
  },
  {
   "cell_type": "code",
   "execution_count": 23,
   "outputs": [
    {
     "name": "stdout",
     "output_type": "stream",
     "text": [
      "     UnderlyingSymbol  UnderlyingPrice Exchange  Type  Expiration    DataDate  \\\n",
      "1782             AAPL           111.47        *  call  11/04/2016  11/01/2016   \n",
      "1783             AAPL           111.47        *   put  11/04/2016  11/01/2016   \n",
      "1784             AAPL           111.47        *  call  11/04/2016  11/01/2016   \n",
      "1785             AAPL           111.47        *   put  11/04/2016  11/01/2016   \n",
      "1786             AAPL           111.47        *  call  11/04/2016  11/01/2016   \n",
      "\n",
      "      Strike  Last   Bid    Ask  Volume  OpenInterest      IV  Delta  Gamma  \\\n",
      "1782    70.0  41.3  41.3  41.70       4             0  0.1945    1.0    0.0   \n",
      "1783    70.0   0.0   0.0   0.01       0             0  0.4405    0.0    0.0   \n",
      "1784    75.0  36.3  36.3  36.70       4             0  0.1945    1.0    0.0   \n",
      "1785    75.0   0.0   0.0   0.01       0             0  0.4405    0.0    0.0   \n",
      "1786    80.0  31.3  31.3  31.70      15            13  0.1945    1.0    0.0   \n",
      "\n",
      "       Theta  Vega  \n",
      "1782 -0.6359   0.0  \n",
      "1783  0.0000   0.0  \n",
      "1784 -0.6813   0.0  \n",
      "1785  0.0000   0.0  \n",
      "1786 -0.7268   0.0  \n"
     ]
    }
   ],
   "source": [
    "print(df.head())"
   ],
   "metadata": {
    "collapsed": false,
    "pycharm": {
     "name": "#%%\n"
    }
   }
  },
  {
   "cell_type": "code",
   "execution_count": 24,
   "outputs": [],
   "source": [
    "df2 = df.drop_duplicates(subset='DataDate', keep='first').filter(['DataDate', 'UnderlyingPrice'])"
   ],
   "metadata": {
    "collapsed": false,
    "pycharm": {
     "name": "#%%\n"
    }
   }
  },
  {
   "cell_type": "code",
   "execution_count": 25,
   "outputs": [],
   "source": [
    "df2 = df2.set_index('DataDate')"
   ],
   "metadata": {
    "collapsed": false,
    "pycharm": {
     "name": "#%%\n"
    }
   }
  },
  {
   "cell_type": "code",
   "execution_count": 26,
   "outputs": [
    {
     "data": {
      "text/plain": "<Figure size 432x288 with 1 Axes>",
      "image/png": "[encoded data removed]"
     },
     "metadata": {
      "needs_background": "light"
     },
     "output_type": "display_data"
    }
   ],
   "source": [
    "df2.plot()\n",
    "plt.show()"
   ],
   "metadata": {
    "collapsed": false,
    "pycharm": {
     "name": "#%%\n"
    }
   }
  },
  {
   "cell_type": "code",
   "execution_count": 26,
   "outputs": [],
   "source": [],
   "metadata": {
    "collapsed": false,
    "pycharm": {
     "name": "#%%\n"
    }
   }
  }
 ],
 "metadata": {
  "kernelspec": {
   "display_name": "Python 3",
   "language": "python",
   "name": "python3"
  },
  "language_info": {
   "codemirror_mode": {
    "name": "ipython",
    "version": 2
   },
   "file_extension": ".py",
   "mimetype": "text/x-python",
   "name": "python",
   "nbconvert_exporter": "python",
   "pygments_lexer": "ipython2",
   "version": "2.7.6"
  }
 },
 "nbformat": 4,
 "nbformat_minor": 0
}