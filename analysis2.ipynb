{
 "cells": [
  {
   "cell_type": "code",
   "execution_count": 23,
   "metadata": {
    "collapsed": true
   },
   "outputs": [],
   "source": [
    "from functools import total_ordering\n",
    "import calendar\n",
    "import zipfile\n",
    "import os\n",
    "import pandas as pd\n",
    "import datetime\n",
    "import matplotlib.pyplot as plt\n",
    "from datetime import datetime"
   ]
  },
  {
   "cell_type": "code",
   "execution_count": 136,
   "outputs": [],
   "source": [
    "df = pd.read_csv('MSFT.csv', sep=\",\", index_col=False).filter(['UnderlyingPrice', 'Type', 'Expiration',\n",
    "                   'DataDate', 'Strike', 'Last', 'Bid', 'Ask', 'Volume', 'OpenInterest', 'IV', 'Delta', 'Gamma',\n",
    "                   'Theta', 'Vega'])"
   ],
   "metadata": {
    "collapsed": false,
    "pycharm": {
     "name": "#%%\n"
    }
   }
  },
  {
   "cell_type": "code",
   "execution_count": 138,
   "outputs": [
    {
     "name": "stdout",
     "output_type": "stream",
     "text": [
      "   index  UnderlyingPrice  Type  Expiration    DataDate  Strike   Last   Bid  \\\n",
      "0      0             59.8  call  11/04/2016  11/01/2016    49.5  10.40  9.65   \n",
      "1      1             59.8   put  11/04/2016  11/01/2016    49.5   0.01  0.00   \n",
      "2      2             59.8  call  11/04/2016  11/01/2016    50.0   0.00  9.20   \n",
      "3      3             59.8   put  11/04/2016  11/01/2016    50.0   0.09  0.00   \n",
      "4      4             59.8  call  11/04/2016  11/01/2016    50.5   7.50  8.65   \n",
      "\n",
      "     Ask  Volume  OpenInterest      IV  Delta  Gamma   Theta  Vega  \n",
      "0  10.65       0             2  0.2951    1.0    0.0 -0.4497   0.0  \n",
      "1   0.01       0            36  0.3362    0.0    0.0  0.0000   0.0  \n",
      "2  10.15       0             0  0.2951    1.0    0.0 -0.4542   0.0  \n",
      "3   0.02       0            22  0.3362    0.0    0.0  0.0000   0.0  \n",
      "4   9.70       0            32  0.2951    1.0    0.0 -0.4588   0.0  \n"
     ]
    }
   ],
   "source": [
    "print(df.head())"
   ],
   "metadata": {
    "collapsed": false,
    "pycharm": {
     "name": "#%%\n"
    }
   }
  },
  {
   "cell_type": "code",
   "execution_count": 139,
   "outputs": [],
   "source": [
    "df['Expiration'] = pd.to_datetime(df['Expiration'])\n",
    "df['DataDate'] = pd.to_datetime(df['DataDate'])"
   ],
   "metadata": {
    "collapsed": false,
    "pycharm": {
     "name": "#%%\n"
    }
   }
  },
  {
   "cell_type": "code",
   "execution_count": 140,
   "outputs": [],
   "source": [
    "df2 = df.drop_duplicates(subset='DataDate', keep='first').filter(['DataDate', 'UnderlyingPrice'])"
   ],
   "metadata": {
    "collapsed": false,
    "pycharm": {
     "name": "#%%\n"
    }
   }
  },
  {
   "cell_type": "code",
   "execution_count": 141,
   "outputs": [],
   "source": [
    "df2 = df2.set_index('DataDate')"
   ],
   "metadata": {
    "collapsed": false,
    "pycharm": {
     "name": "#%%\n"
    }
   }
  },
  {
   "cell_type": "code",
   "execution_count": 142,
   "outputs": [
    {
     "data": {
      "text/plain": "<Figure size 432x288 with 1 Axes>",
      "image/png": "[encoded data removed]"
     },
     "metadata": {
      "needs_background": "light"
     },
     "output_type": "display_data"
    }
   ],
   "source": [
    "df2.plot()\n",
    "plt.title('Spot Prices for 5 years')\n",
    "plt.show()"
   ],
   "metadata": {
    "collapsed": false,
    "pycharm": {
     "name": "#%%\n"
    }
   }
  },
  {
   "cell_type": "code",
   "execution_count": 143,
   "outputs": [],
   "source": [
    "dfCall = df.loc[df['Type'] == \"call\"]"
   ],
   "metadata": {
    "collapsed": false,
    "pycharm": {
     "name": "#%%\n"
    }
   }
  },
  {
   "cell_type": "code",
   "execution_count": 144,
   "outputs": [],
   "source": [
    "dfCall = dfCall[dfCall['DataDate'] == \"11/01/2016\"]"
   ],
   "metadata": {
    "collapsed": false,
    "pycharm": {
     "name": "#%%\n"
    }
   }
  },
  {
   "cell_type": "code",
   "execution_count": 145,
   "outputs": [],
   "source": [
    "dfCall['Days'] = (dfCall['Expiration'] - dfCall['DataDate']).astype('timedelta64[D]').astype(int)"
   ],
   "metadata": {
    "collapsed": false,
    "pycharm": {
     "name": "#%%\n"
    }
   }
  },
  {
   "cell_type": "code",
   "execution_count": 164,
   "outputs": [],
   "source": [
    "grouped = dfCall.groupby('Days')"
   ],
   "metadata": {
    "collapsed": false,
    "pycharm": {
     "name": "#%%\n"
    }
   }
  },
  {
   "cell_type": "code",
   "execution_count": 166,
   "outputs": [],
   "source": [
    "dfFiltered = grouped.apply(lambda g: g.iloc[(g['Delta'] - 0.5).abs().argsort()[:1]])"
   ],
   "metadata": {
    "collapsed": false,
    "pycharm": {
     "name": "#%%\n"
    }
   }
  },
  {
   "cell_type": "code",
   "execution_count": 167,
   "outputs": [
    {
     "data": {
      "text/plain": "          index  UnderlyingPrice  Type Expiration   DataDate  Strike  Last  \\\nDays                                                                         \n3    42      42             59.8  call 2016-11-04 2016-11-01    60.0  0.37   \n10   124    124             59.8  call 2016-11-11 2016-11-01    60.0  0.81   \n17   224    224             59.8  call 2016-11-18 2016-11-01    59.5  0.95   \n24   308    308             59.8  call 2016-11-25 2016-11-01    59.5  1.53   \n31   380    380             59.8  call 2016-12-02 2016-11-01    59.5  1.15   \n38   440    440             59.8  call 2016-12-09 2016-11-01    59.5  1.67   \n45   504    504             59.8  call 2016-12-16 2016-11-01    60.0  1.29   \n80   580    580             59.8  call 2017-01-20 2016-11-01    60.0  1.84   \n108  606    606             59.8  call 2017-02-17 2016-11-01    60.0  2.48   \n171  638    638             59.8  call 2017-04-21 2016-11-01    60.0  3.10   \n227  676    676             59.8  call 2017-06-16 2016-11-01    60.0  3.56   \n262  704    704             59.8  call 2017-07-21 2016-11-01    60.0  4.09   \n444  746    746             59.8  call 2018-01-19 2016-11-01    60.0  5.35   \n808  782    782             59.8  call 2019-01-18 2016-11-01    60.0  7.19   \n\n           Bid   Ask  Volume  OpenInterest      IV   Delta   Gamma    Theta  \\\nDays                                                                          \n3    42   0.31  0.37    8134          4904  0.2256  0.4314  0.3644 -33.3893   \n10   124  0.76  0.84     878          1959  0.2329  0.4742  0.1788 -17.5871   \n17   224  1.12  1.16     453           339  0.2137  0.5265  0.1467  -9.9672   \n24   308  1.17  1.23       0           616  0.1932  0.5185  0.1358  -7.2651   \n31   380  1.28  1.35       4            39  0.1880  0.5154  0.1224  -6.2155   \n38   440  1.39  1.47       0             1  0.1912  0.5046  0.1084  -5.3939   \n45   504  1.28  1.32     644         34083  0.1801  0.4669  0.1055  -5.2985   \n80   580  1.82  1.86     985         88111  0.1805  0.4879  0.0789  -4.2709   \n108  606  2.44  2.52      22          2113  0.2147  0.4849  0.0568  -4.0104   \n171  638  3.15  3.25    5246          8365  0.2163  0.4958  0.0446  -3.2570   \n227  676  3.55  3.65      33          5553  0.2143  0.4941  0.0389  -2.6818   \n262  704  4.00  4.10     178           616  0.2239  0.4984  0.0346  -2.6000   \n444  746  5.25  5.45     110         21980  0.2293  0.5054  0.0257  -1.9581   \n808  782  7.15  7.35      12          1169  0.2379  0.5097  0.0179  -1.3566   \n\n             Vega  Days  \nDays                     \n3    42    1.8792     3  \n10   124   3.8069    10  \n17   224   5.0176    17  \n24   308   5.9981    24  \n31   380   6.8375    31  \n38   440   7.5780    38  \n45   504   8.2511    45  \n80   580  11.0713    80  \n108  606  12.8138   108  \n171  638  16.1141   171  \n227  676  18.4928   227  \n262  704  19.8301   262  \n444  746  25.5534   444  \n808  782  33.6777   808  ",
      "text/html": "<div>\n<style scoped>\n    .dataframe tbody tr th:only-of-type {\n        vertical-align: middle;\n    }\n\n    .dataframe tbody tr th {\n        vertical-align: top;\n    }\n\n    .dataframe thead th {\n        text-align: right;\n    }\n</style>\n<table border=\"1\" class=\"dataframe\">\n  <thead>\n    <tr style=\"text-align: right;\">\n      <th></th>\n      <th></th>\n      <th>index</th>\n      <th>UnderlyingPrice</th>\n      <th>Type</th>\n      <th>Expiration</th>\n      <th>DataDate</th>\n      <th>Strike</th>\n      <th>Last</th>\n      <th>Bid</th>\n      <th>Ask</th>\n      <th>Volume</th>\n      <th>OpenInterest</th>\n      <th>IV</th>\n      <th>Delta</th>\n      <th>Gamma</th>\n      <th>Theta</th>\n      <th>Vega</th>\n      <th>Days</th>\n    </tr>\n    <tr>\n      <th>Days</th>\n      <th></th>\n      <th></th>\n      <th></th>\n      <th></th>\n      <th></th>\n      <th></th>\n      <th></th>\n      <th></th>\n      <th></th>\n      <th></th>\n      <th></th>\n      <th></th>\n      <th></th>\n      <th></th>\n      <th></th>\n      <th></th>\n      <th></th>\n      <th></th>\n    </tr>\n  </thead>\n  <tbody>\n    <tr>\n      <th>3</th>\n      <th>42</th>\n      <td>42</td>\n      <td>59.8</td>\n      <td>call</td>\n      <td>2016-11-04</td>\n      <td>2016-11-01</td>\n      <td>60.0</td>\n      <td>0.37</td>\n      <td>0.31</td>\n      <td>0.37</td>\n      <td>8134</td>\n      <td>4904</td>\n      <td>0.2256</td>\n      <td>0.4314</td>\n      <td>0.3644</td>\n      <td>-33.3893</td>\n      <td>1.8792</td>\n      <td>3</td>\n    </tr>\n    <tr>\n      <th>10</th>\n      <th>124</th>\n      <td>124</td>\n      <td>59.8</td>\n      <td>call</td>\n      <td>2016-11-11</td>\n      <td>2016-11-01</td>\n      <td>60.0</td>\n      <td>0.81</td>\n      <td>0.76</td>\n      <td>0.84</td>\n      <td>878</td>\n      <td>1959</td>\n      <td>0.2329</td>\n      <td>0.4742</td>\n      <td>0.1788</td>\n      <td>-17.5871</td>\n      <td>3.8069</td>\n      <td>10</td>\n    </tr>\n    <tr>\n      <th>17</th>\n      <th>224</th>\n      <td>224</td>\n      <td>59.8</td>\n      <td>call</td>\n      <td>2016-11-18</td>\n      <td>2016-11-01</td>\n      <td>59.5</td>\n      <td>0.95</td>\n      <td>1.12</td>\n      <td>1.16</td>\n      <td>453</td>\n      <td>339</td>\n      <td>0.2137</td>\n      <td>0.5265</td>\n      <td>0.1467</td>\n      <td>-9.9672</td>\n      <td>5.0176</td>\n      <td>17</td>\n    </tr>\n    <tr>\n      <th>24</th>\n      <th>308</th>\n      <td>308</td>\n      <td>59.8</td>\n      <td>call</td>\n      <td>2016-11-25</td>\n      <td>2016-11-01</td>\n      <td>59.5</td>\n      <td>1.53</td>\n      <td>1.17</td>\n      <td>1.23</td>\n      <td>0</td>\n      <td>616</td>\n      <td>0.1932</td>\n      <td>0.5185</td>\n      <td>0.1358</td>\n      <td>-7.2651</td>\n      <td>5.9981</td>\n      <td>24</td>\n    </tr>\n    <tr>\n      <th>31</th>\n      <th>380</th>\n      <td>380</td>\n      <td>59.8</td>\n      <td>call</td>\n      <td>2016-12-02</td>\n      <td>2016-11-01</td>\n      <td>59.5</td>\n      <td>1.15</td>\n      <td>1.28</td>\n      <td>1.35</td>\n      <td>4</td>\n      <td>39</td>\n      <td>0.1880</td>\n      <td>0.5154</td>\n      <td>0.1224</td>\n      <td>-6.2155</td>\n      <td>6.8375</td>\n      <td>31</td>\n    </tr>\n    <tr>\n      <th>38</th>\n      <th>440</th>\n      <td>440</td>\n      <td>59.8</td>\n      <td>call</td>\n      <td>2016-12-09</td>\n      <td>2016-11-01</td>\n      <td>59.5</td>\n      <td>1.67</td>\n      <td>1.39</td>\n      <td>1.47</td>\n      <td>0</td>\n      <td>1</td>\n      <td>0.1912</td>\n      <td>0.5046</td>\n      <td>0.1084</td>\n      <td>-5.3939</td>\n      <td>7.5780</td>\n      <td>38</td>\n    </tr>\n    <tr>\n      <th>45</th>\n      <th>504</th>\n      <td>504</td>\n      <td>59.8</td>\n      <td>call</td>\n      <td>2016-12-16</td>\n      <td>2016-11-01</td>\n      <td>60.0</td>\n      <td>1.29</td>\n      <td>1.28</td>\n      <td>1.32</td>\n      <td>644</td>\n      <td>34083</td>\n      <td>0.1801</td>\n      <td>0.4669</td>\n      <td>0.1055</td>\n      <td>-5.2985</td>\n      <td>8.2511</td>\n      <td>45</td>\n    </tr>\n    <tr>\n      <th>80</th>\n      <th>580</th>\n      <td>580</td>\n      <td>59.8</td>\n      <td>call</td>\n      <td>2017-01-20</td>\n      <td>2016-11-01</td>\n      <td>60.0</td>\n      <td>1.84</td>\n      <td>1.82</td>\n      <td>1.86</td>\n      <td>985</td>\n      <td>88111</td>\n      <td>0.1805</td>\n      <td>0.4879</td>\n      <td>0.0789</td>\n      <td>-4.2709</td>\n      <td>11.0713</td>\n      <td>80</td>\n    </tr>\n    <tr>\n      <th>108</th>\n      <th>606</th>\n      <td>606</td>\n      <td>59.8</td>\n      <td>call</td>\n      <td>2017-02-17</td>\n      <td>2016-11-01</td>\n      <td>60.0</td>\n      <td>2.48</td>\n      <td>2.44</td>\n      <td>2.52</td>\n      <td>22</td>\n      <td>2113</td>\n      <td>0.2147</td>\n      <td>0.4849</td>\n      <td>0.0568</td>\n      <td>-4.0104</td>\n      <td>12.8138</td>\n      <td>108</td>\n    </tr>\n    <tr>\n      <th>171</th>\n      <th>638</th>\n      <td>638</td>\n      <td>59.8</td>\n      <td>call</td>\n      <td>2017-04-21</td>\n      <td>2016-11-01</td>\n      <td>60.0</td>\n      <td>3.10</td>\n      <td>3.15</td>\n      <td>3.25</td>\n      <td>5246</td>\n      <td>8365</td>\n      <td>0.2163</td>\n      <td>0.4958</td>\n      <td>0.0446</td>\n      <td>-3.2570</td>\n      <td>16.1141</td>\n      <td>171</td>\n    </tr>\n    <tr>\n      <th>227</th>\n      <th>676</th>\n      <td>676</td>\n      <td>59.8</td>\n      <td>call</td>\n      <td>2017-06-16</td>\n      <td>2016-11-01</td>\n      <td>60.0</td>\n      <td>3.56</td>\n      <td>3.55</td>\n      <td>3.65</td>\n      <td>33</td>\n      <td>5553</td>\n      <td>0.2143</td>\n      <td>0.4941</td>\n      <td>0.0389</td>\n      <td>-2.6818</td>\n      <td>18.4928</td>\n      <td>227</td>\n    </tr>\n    <tr>\n      <th>262</th>\n      <th>704</th>\n      <td>704</td>\n      <td>59.8</td>\n      <td>call</td>\n      <td>2017-07-21</td>\n      <td>2016-11-01</td>\n      <td>60.0</td>\n      <td>4.09</td>\n      <td>4.00</td>\n      <td>4.10</td>\n      <td>178</td>\n      <td>616</td>\n      <td>0.2239</td>\n      <td>0.4984</td>\n      <td>0.0346</td>\n      <td>-2.6000</td>\n      <td>19.8301</td>\n      <td>262</td>\n    </tr>\n    <tr>\n      <th>444</th>\n      <th>746</th>\n      <td>746</td>\n      <td>59.8</td>\n      <td>call</td>\n      <td>2018-01-19</td>\n      <td>2016-11-01</td>\n      <td>60.0</td>\n      <td>5.35</td>\n      <td>5.25</td>\n      <td>5.45</td>\n      <td>110</td>\n      <td>21980</td>\n      <td>0.2293</td>\n      <td>0.5054</td>\n      <td>0.0257</td>\n      <td>-1.9581</td>\n      <td>25.5534</td>\n      <td>444</td>\n    </tr>\n    <tr>\n      <th>808</th>\n      <th>782</th>\n      <td>782</td>\n      <td>59.8</td>\n      <td>call</td>\n      <td>2019-01-18</td>\n      <td>2016-11-01</td>\n      <td>60.0</td>\n      <td>7.19</td>\n      <td>7.15</td>\n      <td>7.35</td>\n      <td>12</td>\n      <td>1169</td>\n      <td>0.2379</td>\n      <td>0.5097</td>\n      <td>0.0179</td>\n      <td>-1.3566</td>\n      <td>33.6777</td>\n      <td>808</td>\n    </tr>\n  </tbody>\n</table>\n</div>"
     },
     "execution_count": 167,
     "metadata": {},
     "output_type": "execute_result"
    }
   ],
   "source": [
    "dfFiltered"
   ],
   "metadata": {
    "collapsed": false,
    "pycharm": {
     "name": "#%%\n"
    }
   }
  },
  {
   "cell_type": "code",
   "execution_count": 163,
   "outputs": [
    {
     "data": {
      "text/plain": "MultiIndex([(  3,  42),\n            ( 10, 124),\n            ( 17, 224),\n            ( 24, 308),\n            ( 31, 380),\n            ( 38, 440),\n            ( 45, 504),\n            ( 80, 580),\n            (108, 606),\n            (171, 638),\n            (227, 676),\n            (262, 704),\n            (444, 746),\n            (808, 782)],\n           names=['Days', None])"
     },
     "execution_count": 163,
     "metadata": {},
     "output_type": "execute_result"
    }
   ],
   "source": [
    "dfFiltered.index"
   ],
   "metadata": {
    "collapsed": false,
    "pycharm": {
     "name": "#%%\n"
    }
   }
  },
  {
   "cell_type": "code",
   "execution_count": 171,
   "outputs": [],
   "source": [
    "dfFiltered2 = dfFiltered.filter(['Delta', 'Gamma', 'Theta', 'Vega', 'Days'])"
   ],
   "metadata": {
    "collapsed": false,
    "pycharm": {
     "name": "#%%\n"
    }
   }
  },
  {
   "cell_type": "code",
   "execution_count": 174,
   "outputs": [
    {
     "data": {
      "text/plain": "<Figure size 432x288 with 1 Axes>",
      "image/png": "[encoded data removed]"
     },
     "metadata": {
      "needs_background": "light"
     },
     "output_type": "display_data"
    }
   ],
   "source": [
    "plt.plot(dfFiltered2['Days'], dfFiltered2['Delta'])\n",
    "plt.show()"
   ],
   "metadata": {
    "collapsed": false,
    "pycharm": {
     "name": "#%%\n"
    }
   }
  },
  {
   "cell_type": "code",
   "execution_count": 178,
   "outputs": [
    {
     "data": {
      "text/plain": "<Figure size 432x288 with 1 Axes>",
      "image/png": "[encoded data removed]"
     },
     "metadata": {
      "needs_background": "light"
     },
     "output_type": "display_data"
    }
   ],
   "source": [
    "plt.plot(dfFiltered2['Days'], dfFiltered2['Theta'])\n",
    "plt.show()"
   ],
   "metadata": {
    "collapsed": false,
    "pycharm": {
     "name": "#%%\n"
    }
   }
  },
  {
   "cell_type": "code",
   "execution_count": 179,
   "outputs": [
    {
     "data": {
      "text/plain": "<Figure size 432x288 with 1 Axes>",
      "image/png": "[encoded data removed]"
     },
     "metadata": {
      "needs_background": "light"
     },
     "output_type": "display_data"
    }
   ],
   "source": [
    "plt.plot(dfFiltered2['Days'], dfFiltered2['Gamma'])\n",
    "plt.show()"
   ],
   "metadata": {
    "collapsed": false,
    "pycharm": {
     "name": "#%%\n"
    }
   }
  },
  {
   "cell_type": "code",
   "execution_count": 102,
   "outputs": [
    {
     "data": {
      "text/plain": "           Delta   Gamma    Theta     Vega\nDays                                      \n3    42   0.4314  0.3644 -33.3893   1.8792\n10   124  0.4742  0.1788 -17.5871   3.8069\n17   224  0.5265  0.1467  -9.9672   5.0176\n24   308  0.5185  0.1358  -7.2651   5.9981\n31   380  0.5154  0.1224  -6.2155   6.8375\n38   440  0.5046  0.1084  -5.3939   7.5780\n45   504  0.4669  0.1055  -5.2985   8.2511\n80   580  0.4879  0.0789  -4.2709  11.0713\n108  606  0.4849  0.0568  -4.0104  12.8138\n171  638  0.4958  0.0446  -3.2570  16.1141\n227  676  0.4941  0.0389  -2.6818  18.4928\n262  704  0.4984  0.0346  -2.6000  19.8301\n444  746  0.5054  0.0257  -1.9581  25.5534\n808  782  0.5097  0.0179  -1.3566  33.6777",
      "text/html": "<div>\n<style scoped>\n    .dataframe tbody tr th:only-of-type {\n        vertical-align: middle;\n    }\n\n    .dataframe tbody tr th {\n        vertical-align: top;\n    }\n\n    .dataframe thead th {\n        text-align: right;\n    }\n</style>\n<table border=\"1\" class=\"dataframe\">\n  <thead>\n    <tr style=\"text-align: right;\">\n      <th></th>\n      <th></th>\n      <th>Delta</th>\n      <th>Gamma</th>\n      <th>Theta</th>\n      <th>Vega</th>\n    </tr>\n    <tr>\n      <th>Days</th>\n      <th></th>\n      <th></th>\n      <th></th>\n      <th></th>\n      <th></th>\n    </tr>\n  </thead>\n  <tbody>\n    <tr>\n      <th>3</th>\n      <th>42</th>\n      <td>0.4314</td>\n      <td>0.3644</td>\n      <td>-33.3893</td>\n      <td>1.8792</td>\n    </tr>\n    <tr>\n      <th>10</th>\n      <th>124</th>\n      <td>0.4742</td>\n      <td>0.1788</td>\n      <td>-17.5871</td>\n      <td>3.8069</td>\n    </tr>\n    <tr>\n      <th>17</th>\n      <th>224</th>\n      <td>0.5265</td>\n      <td>0.1467</td>\n      <td>-9.9672</td>\n      <td>5.0176</td>\n    </tr>\n    <tr>\n      <th>24</th>\n      <th>308</th>\n      <td>0.5185</td>\n      <td>0.1358</td>\n      <td>-7.2651</td>\n      <td>5.9981</td>\n    </tr>\n    <tr>\n      <th>31</th>\n      <th>380</th>\n      <td>0.5154</td>\n      <td>0.1224</td>\n      <td>-6.2155</td>\n      <td>6.8375</td>\n    </tr>\n    <tr>\n      <th>38</th>\n      <th>440</th>\n      <td>0.5046</td>\n      <td>0.1084</td>\n      <td>-5.3939</td>\n      <td>7.5780</td>\n    </tr>\n    <tr>\n      <th>45</th>\n      <th>504</th>\n      <td>0.4669</td>\n      <td>0.1055</td>\n      <td>-5.2985</td>\n      <td>8.2511</td>\n    </tr>\n    <tr>\n      <th>80</th>\n      <th>580</th>\n      <td>0.4879</td>\n      <td>0.0789</td>\n      <td>-4.2709</td>\n      <td>11.0713</td>\n    </tr>\n    <tr>\n      <th>108</th>\n      <th>606</th>\n      <td>0.4849</td>\n      <td>0.0568</td>\n      <td>-4.0104</td>\n      <td>12.8138</td>\n    </tr>\n    <tr>\n      <th>171</th>\n      <th>638</th>\n      <td>0.4958</td>\n      <td>0.0446</td>\n      <td>-3.2570</td>\n      <td>16.1141</td>\n    </tr>\n    <tr>\n      <th>227</th>\n      <th>676</th>\n      <td>0.4941</td>\n      <td>0.0389</td>\n      <td>-2.6818</td>\n      <td>18.4928</td>\n    </tr>\n    <tr>\n      <th>262</th>\n      <th>704</th>\n      <td>0.4984</td>\n      <td>0.0346</td>\n      <td>-2.6000</td>\n      <td>19.8301</td>\n    </tr>\n    <tr>\n      <th>444</th>\n      <th>746</th>\n      <td>0.5054</td>\n      <td>0.0257</td>\n      <td>-1.9581</td>\n      <td>25.5534</td>\n    </tr>\n    <tr>\n      <th>808</th>\n      <th>782</th>\n      <td>0.5097</td>\n      <td>0.0179</td>\n      <td>-1.3566</td>\n      <td>33.6777</td>\n    </tr>\n  </tbody>\n</table>\n</div>"
     },
     "execution_count": 102,
     "metadata": {},
     "output_type": "execute_result"
    }
   ],
   "source": [
    "dfFiltered2"
   ],
   "metadata": {
    "collapsed": false,
    "pycharm": {
     "name": "#%%\n"
    }
   }
  },
  {
   "cell_type": "code",
   "execution_count": null,
   "outputs": [],
   "source": [],
   "metadata": {
    "collapsed": false,
    "pycharm": {
     "name": "#%%\n"
    }
   }
  }
 ],
 "metadata": {
  "kernelspec": {
   "display_name": "Python 3",
   "language": "python",
   "name": "python3"
  },
  "language_info": {
   "codemirror_mode": {
    "name": "ipython",
    "version": 2
   },
   "file_extension": ".py",
   "mimetype": "text/x-python",
   "name": "python",
   "nbconvert_exporter": "python",
   "pygments_lexer": "ipython2",
   "version": "2.7.6"
  }
 },
 "nbformat": 4,
 "nbformat_minor": 0
}